{
  "nbformat": 4,
  "nbformat_minor": 0,
  "metadata": {
    "colab": {
      "provenance": []
    },
    "kernelspec": {
      "name": "python3",
      "display_name": "Python 3"
    },
    "language_info": {
      "name": "python"
    }
  },
  "cells": [
    {
      "cell_type": "markdown",
      "source": [
        "#Practical question's"
      ],
      "metadata": {
        "id": "Y1XxImX4xHdW"
      }
    },
    {
      "cell_type": "markdown",
      "source": [
        "1. What are data structures, and why are they important ?\n",
        "  - Data structures are ways of organizing and storing data in a computer so it can be used easily and efficiently. They are important because they help programs run faster, save memory, and make it easier to work with large amounts of information. Choosing the right data structure makes problem-solving simpler and ensures the program performs well.\n",
        "\n",
        "2.  Explain the difference between mutable and immutable data types with examples ?\n",
        "  - Mutable Data Types :\n",
        "  In theory, when a mutable object is created, it occupies a specific location in memory. You can modify its content without changing its memory address. `*For example*`, a Python list is a mutable data type. If you have a list [1, 2, 3] and you append a new item, the list object itself is modified in place; you don't create a new list. This makes mutable types efficient for operations that involve frequent additions, deletions, or changes.\n",
        "  - Immutable Data Types :\n",
        "   Immutable objects are the opposite. Once they are created, their state is fixed. If you perform an operation that seems to change an immutable object, you're actually creating an entirely new object in a new memory location. `For example`, a Python string is immutable. When you \"change\" a string like 'Hello' to 'Hello World', Python doesn't modify the original string; it creates a brand new string object with the new value. This property ensures data integrity and is useful for objects that should remain constant.\n",
        "\n",
        "3. What are the main differences between lists and tuples in Python ?\n",
        "  - In Python, lists and tuples are both used to store collections of items, but they differ in a few key ways. Lists are mutable, which means their elements can be changed, added, or removed, while tuples are immutable, so their elements cannot be changed once created. Lists are defined using square brackets [ ], whereas tuples use parentheses ( ).\n",
        "\n",
        "4. Describe how dictionaries store data ?\n",
        "  - In Python, a dictionary stores data as pairs of keys and values. Each key is like a unique label, and the value is the data linked to that label. For example, in a student record, the key could be \"name\" and the value could be \"Ruben\". Inside, Python uses a process called hashing, which quickly finds where to keep each key–value pair in memory. This makes searching, adding, or changing data in a dictionary very fast. Unlike lists that use numbers as positions, dictionaries use keys, so you can directly access the value using its key instead of counting through elements.\n",
        "\n",
        "5.  Why might you use a set instead of a list in Python ?\n",
        "  - You might use a ***set*** instead of a *list* in Python when you want to store items ***without duplicates*** and don’t care about the order of elements. Sets automatically remove duplicate values, while lists allow them. Also, checking if an item exists in a set is much faster than in a list because sets use hashing, while lists check each element one by one. So, if you need unique items and quick membership tests, a set is better than a list.\n",
        "\n",
        "6. What is a string in Python, and how is it different from a list ?\n",
        "  - In Python, a string is a sequence of characters enclosed in quotes (' ' or \" \"), like \"Hello\". It is used to store and work with text. A list, on the other hand, is a collection that can hold different types of items such as numbers, strings, or even other lists, and it is written inside square brackets [ ]. The key difference is that strings are immutable, meaning you cannot change individual characters directly, while lists are mutable, so you can add, remove, or modify elements.\n",
        "\n",
        "7. How do tuples ensure data integrity in Python ?\n",
        "  - Tuples ensure data integrity in Python because they are unchangeable. Once you create a tuple, you cannot add, remove, or modify its elements. This protects the data from being accidentally changed during the program, which helps keep the information safe and consistent.\n",
        "\n",
        "8. What is a hash table, and how does it relate to dictionaries in Python ?\n",
        "  - A hash table is a data structure that stores data using key–value pairs and uses a hash function to quickly find the location of each key in memory. In Python, dictionaries are implemented using hash tables. When you add a key and its value to a dictionary, Python calculates a hash for the key to determine where to store the value. This allows dictionaries to access, add, or update data very quickly, making them efficient for tasks that need fast lookups.\n",
        "\n",
        "9. Can lists contain different data types in Python ?\n",
        "  - Yes, in Python, lists can contain different data types. A single list can hold numbers, strings, booleans, other lists, or even tuples and dictionaries all together.\n",
        "  `For example:` my_list = [10, \"Hello\", 3.14, True, [1, 2, 3]]\n",
        "\n",
        "10. Explain why strings are immutable in Python ?\n",
        "  - Strings are immutable in Python because once a string is created, its contents cannot be changed. This design makes strings safe, consistent, and efficient. Immutability allows Python to store strings in memory more efficiently, reuse them without creating duplicates, and avoid accidental changes to text data.\n",
        "\n",
        "11. What advantages do dictionaries offer over lists for certain tasks ?\n",
        "  - Dictionaries offer advantages over lists when you need to store and access data using meaningful keys instead of numeric positions. They allow fast lookups, additions, and updates because of their key–value structure and hashing, while lists may require searching through elements one by one. This makes dictionaries ideal for tasks like storing student records, phone books, or configuration settings, where you want to quickly find data by a unique identifier rather than by its order.\n",
        "\n",
        "12. Describe a scenario where using a tuple would be preferable over a list ?\n",
        "  - A tuple would be preferable over a list when you need to store data that should not change throughout the program.` For example`, if you are storing the coordinates of a location, like (latitude, longitude), or the days of the week, these values are fixed and should remain constant. Using a tuple ensures the data cannot be accidentally modified, making the program more reliable and safe.\n",
        "\n",
        "13. How do sets handle duplicate values in Python ?\n",
        "  - In Python, a set automatically removes duplicate values and only keeps unique elements. If you try to add a value that already exists in the set, Python ignores it. This makes sets useful when you want to store data without duplicates, like keeping a list of unique names, IDs, or numbers, without having to manually check for repeats.\n",
        "\n",
        "14.  How does the “in” keyword work differently for lists and dictionaries ?\n",
        "  - the in keyword checks for membership, but it works differently for lists and dictionaries. For a list, in checks if a value exists anywhere in the list. `For example`, 5 in [1, 2, 5] returns True. For a dictionary, in only checks the keys, not the values. So if you have {\"name\": \"Ruben\"}, \"name\" in dictionary is True, but \"Ruben\" in dictionary is False.\n",
        "\n",
        "15. Can you modify the elements of a tuple? Explain why or why not ?\n",
        "  - No, you cannot modify the elements of a tuple because tuples are immutable. Once a tuple is created, its values cannot be changed, added, or removed. This immutability ensures that the data stays constant and cannot be accidentally altered, which is useful when you need reliable, unchangeable collections like coordinates, dates, or fixed configuration values.\n",
        "\n",
        "16. What is a nested dictionary, and give an example of its use case ?\n",
        "  - A nested dictionary is a dictionary that contains another dictionary as its value. It allows you to organize complex or related data in a structured way. For example, you can use a nested dictionary to store student information, where each student ID maps to another dictionary containing the student’s name, age, and grade. This is useful for managing data with multiple attributes for each key in an organized and easily accessible manner.\n",
        "\n",
        "17. Describe the time complexity of accessing elements in a dictionary ?\n",
        "  - In Python, accessing elements in a dictionary is very fast because dictionaries use a hash table internally. When you use a key to get a value, Python calculates the key’s hash to directly find where the value is stored in memory. This means that looking up, adding, or updating an element usually takes constant time, written as O(1), regardless of how many items are in the dictionary. This makes dictionaries much faster than lists for searching data by key.\n",
        "\n",
        "18. In what situations are lists preferred over dictionaries ?\n",
        "  - Lists are preferred over dictionaries when you need to store items in a specific order or when the data will be accessed by position rather than by a key. They are useful for tasks like keeping a sequence of numbers, names, or steps in a process, where order matters or duplicates are allowed. Lists are simpler to use than dictionaries when you don’t need key–value pairs and just want a collection of items to loop through or modify.\n",
        "\n",
        "19. Why are dictionaries considered unordered, and how does that affect data retrieval ?\n",
        "  - Dictionaries are considered unordered because the items are not stored in a specific sequence like in a list. Instead, they are stored based on the hash of their keys. This means you cannot rely on the order of items when retrieving them. However, data retrieval using a key is still very fast because Python can directly find the value through the key’s hash, so the lack of order does not affect accessing data efficiently.\n",
        "\n",
        "20. Explain the difference between a list and a dictionary in terms of data retrieval ?\n",
        "  - The main difference between a list and a dictionary in data retrieval is how you access the items. In a list, you retrieve data by its position (index), which may require searching through elements if you don’t know the index. In a dictionary, you retrieve data using a key, which allows Python to find the value directly using a hash, making lookups much faster. So, dictionaries are better for quick access by identifier, while lists are suited for ordered collections."
      ],
      "metadata": {
        "id": "HzWz5Ogw2TyX"
      }
    },
    {
      "cell_type": "markdown",
      "source": [
        "# Practical Question's"
      ],
      "metadata": {
        "id": "JYv8lBvHCUMy"
      }
    },
    {
      "cell_type": "code",
      "execution_count": 2,
      "metadata": {
        "id": "YHW0tpuDWSKM",
        "colab": {
          "base_uri": "https://localhost:8080/"
        },
        "outputId": "7515855c-a7b2-4758-d5e6-bf2b0fbecd31"
      },
      "outputs": [
        {
          "output_type": "stream",
          "name": "stdout",
          "text": [
            "Ruben\n"
          ]
        }
      ],
      "source": [
        "# 1. Create a string with your name and print it\n",
        "name = \"Ruben\"\n",
        "print(name)"
      ]
    },
    {
      "cell_type": "code",
      "source": [
        "# 2. Find the length of the string \"Hello World\"\n",
        "s = \"Hello World\"\n",
        "print(len(s))"
      ],
      "metadata": {
        "colab": {
          "base_uri": "https://localhost:8080/"
        },
        "id": "tYfCUlYDCQWM",
        "outputId": "57db7353-1055-4cca-c1ce-2a39900c9a78"
      },
      "execution_count": 3,
      "outputs": [
        {
          "output_type": "stream",
          "name": "stdout",
          "text": [
            "11\n"
          ]
        }
      ]
    },
    {
      "cell_type": "code",
      "source": [
        "# 3. Slice the first 3 characters from the string \"Python Programming\"\n",
        "text = \"Python Programming\"\n",
        "print(text[:3])"
      ],
      "metadata": {
        "colab": {
          "base_uri": "https://localhost:8080/"
        },
        "id": "xYEYRMHIC0Ji",
        "outputId": "37a9e19f-2312-46a6-dab8-b4fab5e19dc2"
      },
      "execution_count": 4,
      "outputs": [
        {
          "output_type": "stream",
          "name": "stdout",
          "text": [
            "Pyt\n"
          ]
        }
      ]
    },
    {
      "cell_type": "code",
      "source": [
        "# 4. Convert the string \"hello\" to uppercase\n",
        "word = \"hello\"\n",
        "print(word.upper())"
      ],
      "metadata": {
        "colab": {
          "base_uri": "https://localhost:8080/"
        },
        "id": "VQ6FgEYXC03n",
        "outputId": "d42e14e1-4684-48a3-c314-9ca46a4d2372"
      },
      "execution_count": 5,
      "outputs": [
        {
          "output_type": "stream",
          "name": "stdout",
          "text": [
            "HELLO\n"
          ]
        }
      ]
    },
    {
      "cell_type": "code",
      "source": [
        "# 5. Replace the word \"apple\" with \"orange\" in the string \"I like apple\"\n",
        "line = \"I like apple\"\n",
        "print(line.replace(\"apple\", \"orange\"))"
      ],
      "metadata": {
        "colab": {
          "base_uri": "https://localhost:8080/"
        },
        "id": "RUuJKwA7C5TZ",
        "outputId": "c1ff4fb6-2a3a-4aac-a2d8-74e47159d403"
      },
      "execution_count": 6,
      "outputs": [
        {
          "output_type": "stream",
          "name": "stdout",
          "text": [
            "I like orange\n"
          ]
        }
      ]
    },
    {
      "cell_type": "code",
      "source": [
        "# 6. Create a list with numbers 1 to 5 and print it\n",
        "numbers = [1, 2, 3, 4, 5]\n",
        "print(numbers)"
      ],
      "metadata": {
        "colab": {
          "base_uri": "https://localhost:8080/"
        },
        "id": "-ewc0Os2C-vc",
        "outputId": "5a9c4d49-559f-49b1-8436-1feb5e62c80d"
      },
      "execution_count": 7,
      "outputs": [
        {
          "output_type": "stream",
          "name": "stdout",
          "text": [
            "[1, 2, 3, 4, 5]\n"
          ]
        }
      ]
    },
    {
      "cell_type": "code",
      "source": [
        "# 7. Append the number 10 to the list [1, 2, 3, 4]\n",
        "lst = [1, 2, 3, 4]\n",
        "lst.append(10)\n",
        "print(lst)"
      ],
      "metadata": {
        "colab": {
          "base_uri": "https://localhost:8080/"
        },
        "id": "Dy2zqexQDBux",
        "outputId": "947bf3d4-b040-442e-912b-ff23cf4cb54e"
      },
      "execution_count": 8,
      "outputs": [
        {
          "output_type": "stream",
          "name": "stdout",
          "text": [
            "[1, 2, 3, 4, 10]\n"
          ]
        }
      ]
    },
    {
      "cell_type": "code",
      "source": [
        "# 8. Remove the number 3 from the list [1, 2, 3, 4, 5]\n",
        "lst2 = [1, 2, 3, 4, 5]\n",
        "lst2.remove(3)\n",
        "print(lst2)"
      ],
      "metadata": {
        "colab": {
          "base_uri": "https://localhost:8080/"
        },
        "id": "yckZs0zoDFc6",
        "outputId": "c7b37d81-ece3-49b9-f615-daf6d9c3d509"
      },
      "execution_count": 9,
      "outputs": [
        {
          "output_type": "stream",
          "name": "stdout",
          "text": [
            "[1, 2, 4, 5]\n"
          ]
        }
      ]
    },
    {
      "cell_type": "code",
      "source": [
        "# 9. Access the second element in the list ['a', 'b', 'c', 'd']\n",
        "chars = ['a', 'b', 'c', 'd']\n",
        "print(chars[1])"
      ],
      "metadata": {
        "colab": {
          "base_uri": "https://localhost:8080/"
        },
        "id": "8cjqgAJsDIpI",
        "outputId": "4999d158-5c44-4df0-c021-475212edf2a8"
      },
      "execution_count": 10,
      "outputs": [
        {
          "output_type": "stream",
          "name": "stdout",
          "text": [
            "b\n"
          ]
        }
      ]
    },
    {
      "cell_type": "code",
      "source": [
        "# 10. Reverse the list [10, 20, 30, 40, 50]\n",
        "lst3 = [10, 20, 30, 40, 50]\n",
        "lst3.reverse()\n",
        "print(lst3)"
      ],
      "metadata": {
        "colab": {
          "base_uri": "https://localhost:8080/"
        },
        "id": "UXmURGRFDK8_",
        "outputId": "b5149f47-9684-4dac-b89f-1b85138efb5a"
      },
      "execution_count": 11,
      "outputs": [
        {
          "output_type": "stream",
          "name": "stdout",
          "text": [
            "[50, 40, 30, 20, 10]\n"
          ]
        }
      ]
    },
    {
      "cell_type": "code",
      "source": [
        "# 11. Create a tuple with the elements 100, 200, 300 and print it\n",
        "t1 = (100, 200, 300)\n",
        "print(t1)\n"
      ],
      "metadata": {
        "colab": {
          "base_uri": "https://localhost:8080/"
        },
        "id": "S-0VprA1DOGu",
        "outputId": "925aac40-eab4-457a-993a-44d6380c6ece"
      },
      "execution_count": 12,
      "outputs": [
        {
          "output_type": "stream",
          "name": "stdout",
          "text": [
            "(100, 200, 300)\n"
          ]
        }
      ]
    },
    {
      "cell_type": "code",
      "source": [
        "# 12. Access the second-to-last element of the tuple ('red', 'green', 'blue', 'yellow')\n",
        "colors = ('red', 'green', 'blue', 'yellow')\n",
        "print(colors[-2])"
      ],
      "metadata": {
        "colab": {
          "base_uri": "https://localhost:8080/"
        },
        "id": "Cp_1SrM4DQnY",
        "outputId": "b03f6497-423a-48a9-800f-f4d300c4d928"
      },
      "execution_count": 13,
      "outputs": [
        {
          "output_type": "stream",
          "name": "stdout",
          "text": [
            "blue\n"
          ]
        }
      ]
    },
    {
      "cell_type": "code",
      "source": [
        "# 13. Find the minimum number in the tuple (10, 20, 5, 15)\n",
        "nums = (10, 20, 5, 15)\n",
        "print(min(nums))"
      ],
      "metadata": {
        "colab": {
          "base_uri": "https://localhost:8080/"
        },
        "id": "be8Vz_3WDT4R",
        "outputId": "8b10e179-41b1-4de1-db82-daa0e5311ab4"
      },
      "execution_count": 14,
      "outputs": [
        {
          "output_type": "stream",
          "name": "stdout",
          "text": [
            "5\n"
          ]
        }
      ]
    },
    {
      "cell_type": "code",
      "source": [
        "# 14. Find the index of the element 'cat' in the tuple ('dog', 'cat', 'rabbit')\n",
        "animals = ('dog', 'cat', 'rabbit')\n",
        "print(animals.index('cat'))"
      ],
      "metadata": {
        "colab": {
          "base_uri": "https://localhost:8080/"
        },
        "id": "Qjr77c9jDW5L",
        "outputId": "9a3846b0-b979-47f7-fda1-069925d901e1"
      },
      "execution_count": 15,
      "outputs": [
        {
          "output_type": "stream",
          "name": "stdout",
          "text": [
            "1\n"
          ]
        }
      ]
    },
    {
      "cell_type": "code",
      "source": [
        "# 15. Create a tuple containing three different fruits and check if \"kiwi\" is in it\n",
        "fruits = ('apple', 'banana', 'cherry')\n",
        "print(\"kiwi\" in fruits)\n"
      ],
      "metadata": {
        "colab": {
          "base_uri": "https://localhost:8080/"
        },
        "id": "GoHNuiScDja1",
        "outputId": "624876b0-384b-4ecf-d3ec-ff0f16efec37"
      },
      "execution_count": 16,
      "outputs": [
        {
          "output_type": "stream",
          "name": "stdout",
          "text": [
            "False\n"
          ]
        }
      ]
    },
    {
      "cell_type": "code",
      "source": [
        "# 16. Create a set with the elements {a, b, c} and print it\n",
        "s1 = {'a', 'b', 'c'}\n",
        "print(s1)"
      ],
      "metadata": {
        "colab": {
          "base_uri": "https://localhost:8080/"
        },
        "id": "XDZWZTgCDnD4",
        "outputId": "2c1bd2e7-0240-452e-c38f-da3605df31d3"
      },
      "execution_count": 17,
      "outputs": [
        {
          "output_type": "stream",
          "name": "stdout",
          "text": [
            "{'a', 'c', 'b'}\n"
          ]
        }
      ]
    },
    {
      "cell_type": "code",
      "source": [
        "# 17. Clear all elements from the set {1, 2, 3, 4, 5}\n",
        "s2 = {1, 2, 3, 4, 5}\n",
        "s2.clear()\n",
        "print(s2)"
      ],
      "metadata": {
        "colab": {
          "base_uri": "https://localhost:8080/"
        },
        "id": "pfqWXYDKDp1Z",
        "outputId": "b54e4789-84a2-4f1b-baa5-c84cd0d12adc"
      },
      "execution_count": 18,
      "outputs": [
        {
          "output_type": "stream",
          "name": "stdout",
          "text": [
            "set()\n"
          ]
        }
      ]
    },
    {
      "cell_type": "code",
      "source": [
        "# 18. Remove the element 4 from the set {1, 2, 3, 4}\n",
        "s3 = {1, 2, 3, 4}\n",
        "s3.remove(4)\n",
        "print(s3)"
      ],
      "metadata": {
        "colab": {
          "base_uri": "https://localhost:8080/"
        },
        "id": "Oxnog4DtDr_D",
        "outputId": "7e9c43ad-0965-4fcd-ceb9-3e1ff2c0a12b"
      },
      "execution_count": 19,
      "outputs": [
        {
          "output_type": "stream",
          "name": "stdout",
          "text": [
            "{1, 2, 3}\n"
          ]
        }
      ]
    },
    {
      "cell_type": "code",
      "source": [
        "# 19. Find the union of two sets {1, 2, 3} and {3, 4, 5}\n",
        "set1 = {1, 2, 3}\n",
        "set2 = {3, 4, 5}\n",
        "print(set1.union(set2))"
      ],
      "metadata": {
        "colab": {
          "base_uri": "https://localhost:8080/"
        },
        "id": "CUeyt9_jDvh9",
        "outputId": "106dea69-39ba-45a0-b231-97c272c74e4d"
      },
      "execution_count": 20,
      "outputs": [
        {
          "output_type": "stream",
          "name": "stdout",
          "text": [
            "{1, 2, 3, 4, 5}\n"
          ]
        }
      ]
    },
    {
      "cell_type": "code",
      "source": [
        "# 20. Find the intersection of two sets {1, 2, 3} and {2, 3, 4}\n",
        "a = {1, 2, 3}\n",
        "b = {2, 3, 4}\n",
        "print(a.intersection(b))"
      ],
      "metadata": {
        "colab": {
          "base_uri": "https://localhost:8080/"
        },
        "id": "5af39Y-pDzhF",
        "outputId": "f8c8d425-5165-447c-cd9f-3b2457a45da9"
      },
      "execution_count": 21,
      "outputs": [
        {
          "output_type": "stream",
          "name": "stdout",
          "text": [
            "{2, 3}\n"
          ]
        }
      ]
    },
    {
      "cell_type": "code",
      "source": [
        "# 21. Create a dictionary with the keys \"name\", \"age\", and \"city\", and print it\n",
        "person = {\"name\": \"Alice\", \"age\": 25, \"city\": \"Paris\"}\n",
        "print(person)"
      ],
      "metadata": {
        "colab": {
          "base_uri": "https://localhost:8080/"
        },
        "id": "A8Zc6JA4D17g",
        "outputId": "705b3902-76aa-4c19-f617-95dcb79a745c"
      },
      "execution_count": 22,
      "outputs": [
        {
          "output_type": "stream",
          "name": "stdout",
          "text": [
            "{'name': 'Alice', 'age': 25, 'city': 'Paris'}\n"
          ]
        }
      ]
    },
    {
      "cell_type": "code",
      "source": [
        "# 22. Add a new key-value pair \"country\": \"USA\" to the dictionary {\"name\": \"John\", \"age\": 25}\n",
        "person2 = {\"name\": \"John\", \"age\": 25}\n",
        "person2[\"country\"] = \"USA\"\n",
        "print(person2)"
      ],
      "metadata": {
        "colab": {
          "base_uri": "https://localhost:8080/"
        },
        "id": "6rX9BC9lD4lz",
        "outputId": "50943a69-604e-48a0-f768-47237dbc3407"
      },
      "execution_count": 23,
      "outputs": [
        {
          "output_type": "stream",
          "name": "stdout",
          "text": [
            "{'name': 'John', 'age': 25, 'country': 'USA'}\n"
          ]
        }
      ]
    },
    {
      "cell_type": "code",
      "source": [
        "# 23. Access the value associated with the key \"name\" in the dictionary {\"name\": \"Alice\", \"age\": 30}\n",
        "person3 = {\"name\": \"Alice\", \"age\": 30}\n",
        "print(person3[\"name\"])\n"
      ],
      "metadata": {
        "colab": {
          "base_uri": "https://localhost:8080/"
        },
        "id": "68ynFKh4D73B",
        "outputId": "7df442fc-e75d-45ac-c32d-cbfcc85a3397"
      },
      "execution_count": 24,
      "outputs": [
        {
          "output_type": "stream",
          "name": "stdout",
          "text": [
            "Alice\n"
          ]
        }
      ]
    },
    {
      "cell_type": "code",
      "source": [
        "# 24. Remove the key \"age\" from the dictionary {\"name\": \"Bob\", \"age\": 22, \"city\": \"New York\"}\n",
        "person4 = {\"name\": \"Bob\", \"age\": 22, \"city\": \"New York\"}\n",
        "person4.pop(\"age\")\n",
        "print(person4)"
      ],
      "metadata": {
        "colab": {
          "base_uri": "https://localhost:8080/"
        },
        "id": "Zx-cabNKD-Ti",
        "outputId": "b573d2bb-b4c6-407d-c54b-5237f5c3885e"
      },
      "execution_count": 25,
      "outputs": [
        {
          "output_type": "stream",
          "name": "stdout",
          "text": [
            "{'name': 'Bob', 'city': 'New York'}\n"
          ]
        }
      ]
    },
    {
      "cell_type": "code",
      "source": [
        "# 25. Check if the key \"city\" exists in the dictionary {\"name\": \"Alice\", \"city\": \"Paris\"}\n",
        "person5 = {\"name\": \"Alice\", \"city\": \"Paris\"}\n",
        "print(\"city\" in person5)"
      ],
      "metadata": {
        "colab": {
          "base_uri": "https://localhost:8080/"
        },
        "id": "JkVtASJfEBsM",
        "outputId": "bc56a44d-4555-4b8e-bf3a-2b2e36847a1b"
      },
      "execution_count": 26,
      "outputs": [
        {
          "output_type": "stream",
          "name": "stdout",
          "text": [
            "True\n"
          ]
        }
      ]
    },
    {
      "cell_type": "code",
      "source": [
        "# 26. Create a list, a tuple, and a dictionary, and print them all\n",
        "lst = [1, 2, 3]\n",
        "tpl = (4, 5, 6)\n",
        "dic = {\"a\": 1, \"b\": 2}\n",
        "print(lst, tpl, dic)"
      ],
      "metadata": {
        "colab": {
          "base_uri": "https://localhost:8080/"
        },
        "id": "mBzUGK4YEEC7",
        "outputId": "dc1cb7d8-69ff-4ef6-9afb-e142fd52da1e"
      },
      "execution_count": 27,
      "outputs": [
        {
          "output_type": "stream",
          "name": "stdout",
          "text": [
            "[1, 2, 3] (4, 5, 6) {'a': 1, 'b': 2}\n"
          ]
        }
      ]
    },
    {
      "cell_type": "code",
      "source": [
        "\n",
        "# 27. Create a list of 5 random numbers between 1 and 100, sort it in ascending order, and print the result\n",
        "import random\n",
        "list = random.sample(range(1, 101), 5)\n",
        "list.sort()\n",
        "print(list)"
      ],
      "metadata": {
        "colab": {
          "base_uri": "https://localhost:8080/"
        },
        "id": "srY8tslJEG3t",
        "outputId": "047edbbe-1684-4fb9-e4d8-51d79a83b73d"
      },
      "execution_count": 28,
      "outputs": [
        {
          "output_type": "stream",
          "name": "stdout",
          "text": [
            "[3, 44, 45, 46, 49]\n"
          ]
        }
      ]
    },
    {
      "cell_type": "code",
      "source": [
        "# 28. Create a list with strings and print the element at the third index\n",
        "str_list = [\"apple\", \"banana\", \"cherry\", \"date\", \"elderberry\"]\n",
        "print(str_list[3])"
      ],
      "metadata": {
        "colab": {
          "base_uri": "https://localhost:8080/"
        },
        "id": "Hr98xHQGELVV",
        "outputId": "dd847ab6-6403-4d44-f9e4-1046c378e3fc"
      },
      "execution_count": 29,
      "outputs": [
        {
          "output_type": "stream",
          "name": "stdout",
          "text": [
            "date\n"
          ]
        }
      ]
    },
    {
      "cell_type": "code",
      "source": [
        "# 29. Combine two dictionaries into one and print the result\n",
        "dict1 = {\"a\": 1, \"b\": 2}\n",
        "dict2 = {\"c\": 3, \"d\": 4}\n",
        "combined = {**dict1, **dict2}\n",
        "print(combined)"
      ],
      "metadata": {
        "colab": {
          "base_uri": "https://localhost:8080/"
        },
        "id": "B4PP8eTiENtL",
        "outputId": "515be878-248b-47be-a3b1-2ddeef6da68c"
      },
      "execution_count": 30,
      "outputs": [
        {
          "output_type": "stream",
          "name": "stdout",
          "text": [
            "{'a': 1, 'b': 2, 'c': 3, 'd': 4}\n"
          ]
        }
      ]
    },
    {
      "cell_type": "code",
      "source": [
        "# 30. Convert a list of strings into a set\n",
        "string_list = [\"apple\", \"banana\", \"apple\", \"cherry\"]\n",
        "string_set = set(string_list)\n",
        "print(string_set)"
      ],
      "metadata": {
        "colab": {
          "base_uri": "https://localhost:8080/"
        },
        "id": "p6-_lVGCEP8b",
        "outputId": "8ef0defa-bddb-481f-a024-d2f9a427dd7a"
      },
      "execution_count": 31,
      "outputs": [
        {
          "output_type": "stream",
          "name": "stdout",
          "text": [
            "{'apple', 'banana', 'cherry'}\n"
          ]
        }
      ]
    },
    {
      "cell_type": "code",
      "source": [],
      "metadata": {
        "id": "rA0Lf5umESsg"
      },
      "execution_count": null,
      "outputs": []
    }
  ]
}